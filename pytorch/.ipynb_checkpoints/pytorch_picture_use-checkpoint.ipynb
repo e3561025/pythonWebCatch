{
 "cells": [
  {
   "cell_type": "code",
   "execution_count": 24,
   "metadata": {
    "scrolled": true
   },
   "outputs": [],
   "source": [
    "import torch\n",
    "import torch.nn as nn\n",
    "import torch.optim as optim\n",
    "from torch.optim import lr_scheduler\n",
    "from torch.autograd import Variable\n",
    "import torchvision\n",
    "from torchvision import datasets, models, transforms\n",
    "import time\n",
    "import os\n",
    "from PIL import Image\n",
    "model = torch.load('model2.pkl',map_location='cpu')"
   ]
  },
  {
   "cell_type": "code",
   "execution_count": 25,
   "metadata": {},
   "outputs": [
    {
     "name": "stdout",
     "output_type": "stream",
     "text": [
      "<PIL.JpegImagePlugin.JpegImageFile image mode=RGB size=1059x1500 at 0x53C1668>\n",
      "tensor([[0.0847, 0.1086]], grad_fn=<AddmmBackward>)\n",
      "[[0.08472833 0.10859007]]\n"
     ]
    }
   ],
   "source": [
    "# data_transforms =transforms.Compose([\n",
    "#             transforms.Scale(256),\n",
    "#             transforms.CenterCrop(224),\n",
    "#             transforms.ToTensor(),\n",
    "#             transforms.Normalize([0.485, 0.456, 0.406], [0.229, 0.224, 0.225])\n",
    "#         ])\n",
    "# from PIL import Image\n",
    "# im = Image.open('0e96ddb45429ee0c81d55bb33f500894.jpg')\n",
    "# print(im)\n",
    "# image_data=data_transforms(im)\n",
    "# image_data=image_data.unsqueeze(dim=0)\n",
    "# #image_data=image_data.cuda()#把image_data放入GPU\n",
    "# #image_data2 = torch.utils.data.DataLoader(image_data,batch_size=4,shuffle=True,num_workers=4) \n",
    "\n",
    "\n",
    "# y=model(image_data)\n",
    "# print(y)\n",
    "# y=y.cpu()#把y放回cpu\n",
    "# print(y.data.numpy())"
   ]
  },
  {
   "cell_type": "code",
   "execution_count": 26,
   "metadata": {},
   "outputs": [
    {
     "name": "stdout",
     "output_type": "stream",
     "text": [
      "D:/python_Test/python-design/pytorch/picture/1504128_340738532770639_3083963326714400701_n (1).jpg\n"
     ]
    }
   ],
   "source": [
    "import os\n",
    "piclist = os.listdir('./picture/')\n",
    "for i in range(0,len(piclist)):\n",
    "    piclist[i] = './picture/'+piclist[i]\n",
    "    rel = os.path.abspath(piclist[i])\n",
    "    rel=rel.replace('\\\\','/')\n",
    "    piclist[i]=rel\n",
    "print(rel)\n",
    "    "
   ]
  },
  {
   "cell_type": "code",
   "execution_count": 21,
   "metadata": {
    "scrolled": true
   },
   "outputs": [
    {
     "name": "stdout",
     "output_type": "stream",
     "text": [
      "[[1.870338   0.05847746]]\n"
     ]
    }
   ],
   "source": [
    "# #單一使用\n",
    "# from PIL import Image\n",
    "# import requests\n",
    "# from io import BytesIO\n",
    "# pic=requests.get('http://img2.wnacg.download/data/0774/35/011.jpg').content\n",
    "# im = Image.open(BytesIO(pic))\n",
    "# image_data=data_transforms(im)\n",
    "# image_data=image_data.unsqueeze(dim=0)\n",
    "# y=model(image_data)\n",
    "# print(y.data.numpy())"
   ]
  },
  {
   "cell_type": "code",
   "execution_count": 27,
   "metadata": {},
   "outputs": [
    {
     "name": "stdout",
     "output_type": "stream",
     "text": [
      "0 3 0.0\n"
     ]
    }
   ],
   "source": [
    "data_transforms =transforms.Compose([\n",
    "            transforms.Scale(256),\n",
    "            transforms.CenterCrop(224),\n",
    "            transforms.ToTensor(),\n",
    "            transforms.Normalize([0.485, 0.456, 0.406], [0.229, 0.224, 0.225])\n",
    "        ])\n",
    "num=0\n",
    "total=len(piclist)\n",
    "for i in piclist:\n",
    "    im = Image.open(i)\n",
    "    image_data=data_transforms(im)\n",
    "    image_data=image_data.unsqueeze(dim=0)\n",
    "    y=model(image_data)\n",
    "    value = y.data.numpy()\n",
    "    if (value[0,0]-value[0,1])<0:\n",
    "        num+=1\n",
    "print(num,total,num/total)"
   ]
  },
  {
   "cell_type": "code",
   "execution_count": 5,
   "metadata": {},
   "outputs": [
    {
     "name": "stdout",
     "output_type": "stream",
     "text": [
      "[[0.08472833 0.10859007]]\n",
      "NO\n"
     ]
    }
   ],
   "source": [
    "w=y.data.numpy()\n",
    "print(w)\n",
    "if w[0,0]>0:\n",
    "    label='NO'\n",
    "else:\n",
    "    lavber='Yes'\n",
    "print(label)"
   ]
  }
 ],
 "metadata": {
  "kernelspec": {
   "display_name": "Python 3",
   "language": "python",
   "name": "python3"
  },
  "language_info": {
   "codemirror_mode": {
    "name": "ipython",
    "version": 3
   },
   "file_extension": ".py",
   "mimetype": "text/x-python",
   "name": "python",
   "nbconvert_exporter": "python",
   "pygments_lexer": "ipython3",
   "version": "3.7.1"
  }
 },
 "nbformat": 4,
 "nbformat_minor": 2
}
