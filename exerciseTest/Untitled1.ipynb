{
 "cells": [
  {
   "cell_type": "code",
   "execution_count": 4,
   "metadata": {},
   "outputs": [],
   "source": [
    "str1='aaabbbccc'\n",
    "str2='aaacbbcc'\n",
    "len1=len(str1)\n",
    "len2 = len(str2)"
   ]
  },
  {
   "cell_type": "code",
   "execution_count": 11,
   "metadata": {},
   "outputs": [],
   "source": [
    "import numpy as np\n",
    "arr = np.zeros((len1+1,len2+1),dtype=np.int)"
   ]
  },
  {
   "cell_type": "code",
   "execution_count": 12,
   "metadata": {},
   "outputs": [
    {
     "name": "stdout",
     "output_type": "stream",
     "text": [
      "[[0 0 0 0 0 0 0 0 0]\n",
      " [0 0 0 0 0 0 0 0 0]\n",
      " [0 0 0 0 0 0 0 0 0]\n",
      " [0 0 0 0 0 0 0 0 0]\n",
      " [0 0 0 0 0 0 0 0 0]\n",
      " [0 0 0 0 0 0 0 0 0]\n",
      " [0 0 0 0 0 0 0 0 0]\n",
      " [0 0 0 0 0 0 0 0 0]\n",
      " [0 0 0 0 0 0 0 0 0]\n",
      " [0 0 0 0 0 0 0 0 0]]\n"
     ]
    }
   ],
   "source": [
    "print(arr)"
   ]
  },
  {
   "cell_type": "code",
   "execution_count": 20,
   "metadata": {},
   "outputs": [],
   "source": [
    "for i in range(len1):\n",
    "    for j in range(len2):\n",
    "        if(str1[i]==str2[j]):\n",
    "            arr[i+1][j+1]=arr[i][j]+1\n",
    "        else:\n",
    "            if(arr[i+1][j]>arr[i][j+1]):\n",
    "                arr[i+1][j+1]=arr[i+1][j]\n",
    "            else:\n",
    "                arr[i+1][j+1]=arr[i][j+1]\n",
    "                "
   ]
  },
  {
   "cell_type": "code",
   "execution_count": 21,
   "metadata": {},
   "outputs": [
    {
     "name": "stdout",
     "output_type": "stream",
     "text": [
      "[[0 0 0 0 0 0 0 0 0]\n",
      " [0 1 1 1 1 1 1 1 1]\n",
      " [0 1 2 2 2 2 2 2 2]\n",
      " [0 1 2 3 3 3 3 3 3]\n",
      " [0 1 2 3 3 4 4 4 4]\n",
      " [0 1 2 3 3 4 5 5 5]\n",
      " [0 1 2 3 3 4 5 5 5]\n",
      " [0 1 2 3 4 4 5 6 6]\n",
      " [0 1 2 3 4 4 5 6 7]\n",
      " [0 1 2 3 4 4 5 6 7]]\n"
     ]
    }
   ],
   "source": [
    "print(arr)"
   ]
  },
  {
   "cell_type": "code",
   "execution_count": 24,
   "metadata": {},
   "outputs": [],
   "source": [
    "\n",
    "string=''\n",
    "num=arr[len1][len2]\n",
    "a1=len1\n",
    "a2=len2\n",
    "while num>0:\n",
    "    if str1[a1-1]==str2[a2-1]:\n",
    "        a1=a1-1\n",
    "        a2=a2-1\n",
    "        string=str1[a1]+string\n",
    "        num=arr[a1][a2]\n",
    "    else:\n",
    "        if arr[a1-1][a2]>arr[a1][a2-1]:\n",
    "            a1=a1-1\n",
    "        else:\n",
    "            a2=a2-1\n",
    "    \n",
    "        "
   ]
  },
  {
   "cell_type": "code",
   "execution_count": 25,
   "metadata": {},
   "outputs": [
    {
     "name": "stdout",
     "output_type": "stream",
     "text": [
      "aaabbcc\n"
     ]
    }
   ],
   "source": [
    "print(string,)"
   ]
  }
 ],
 "metadata": {
  "kernelspec": {
   "display_name": "Python 3",
   "language": "python",
   "name": "python3"
  },
  "language_info": {
   "codemirror_mode": {
    "name": "ipython",
    "version": 3
   },
   "file_extension": ".py",
   "mimetype": "text/x-python",
   "name": "python",
   "nbconvert_exporter": "python",
   "pygments_lexer": "ipython3",
   "version": "3.7.1"
  }
 },
 "nbformat": 4,
 "nbformat_minor": 2
}
