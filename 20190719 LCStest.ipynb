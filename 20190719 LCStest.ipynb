{
 "cells": [
  {
   "cell_type": "code",
   "execution_count": 1,
   "metadata": {
    "slideshow": {
     "slide_type": "-"
    }
   },
   "outputs": [],
   "source": [
    "import numpy as np"
   ]
  },
  {
   "cell_type": "code",
   "execution_count": 2,
   "metadata": {},
   "outputs": [],
   "source": [
    "str1='ABCABCBA'\n",
    "str2='CBABCABCC'\n",
    "len1=len(str1)\n",
    "len2 = len(str2)\n",
    "arr = np.zeros((len1+1,len2+1),dtype=np.int)"
   ]
  },
  {
   "cell_type": "code",
   "execution_count": 3,
   "metadata": {},
   "outputs": [],
   "source": [
    "#LCS演算法矩陣建造\n",
    "for i in range(len1):\n",
    "    for j in range(len2):\n",
    "        if(str1[i]==str2[j]):\n",
    "            arr[i+1][j+1]=arr[i][j]+1\n",
    "        else:\n",
    "            if(arr[i+1][j]>arr[i][j+1]):\n",
    "                arr[i+1][j+1]=arr[i+1][j]\n",
    "            else:\n",
    "                arr[i+1][j+1]=arr[i][j+1]\n",
    "                "
   ]
  },
  {
   "cell_type": "code",
   "execution_count": 4,
   "metadata": {},
   "outputs": [
    {
     "name": "stdout",
     "output_type": "stream",
     "text": [
      "[[0 0 0 0 0 0 0 0 0 0]\n",
      " [0 0 0 1 1 1 1 1 1 1]\n",
      " [0 0 1 1 2 2 2 2 2 2]\n",
      " [0 1 1 1 2 3 3 3 3 3]\n",
      " [0 1 1 2 2 3 4 4 4 4]\n",
      " [0 1 2 2 3 3 4 5 5 5]\n",
      " [0 1 2 2 3 4 4 5 6 6]\n",
      " [0 1 2 2 3 4 4 5 6 6]\n",
      " [0 1 2 3 3 4 5 5 6 6]]\n"
     ]
    }
   ],
   "source": [
    "print(arr)"
   ]
  },
  {
   "cell_type": "code",
   "execution_count": 5,
   "metadata": {},
   "outputs": [],
   "source": [
    "#LCS回溯-找出LCS序列\n",
    "string=''\n",
    "#num 是 LCS字元\n",
    "num=arr[len1][len2]\n",
    "# a1 a2 用來追蹤矩陣位置\n",
    "a1=len1\n",
    "a2=len2\n",
    "# 紀錄 LCS走位\n",
    "motion=[]\n",
    "# 紀錄 str1 str2 字串 (含gap)\n",
    "str1Lcs=''\n",
    "str2Lcs=''\n",
    "while num>0:\n",
    "    if str1[a1-1]==str2[a2-1]:\n",
    "        a1=a1-1\n",
    "        a2=a2-1\n",
    "        string=str1[a1]+string\n",
    "        num=arr[a1][a2]\n",
    "        motion.append('middle')\n",
    "        str1Lcs=str1[a1]+str1Lcs\n",
    "        str2Lcs=str1[a1]+str2Lcs\n",
    "    else:\n",
    "        if arr[a1-1][a2]>=arr[a1][a2-1]:\n",
    "            a1=a1-1\n",
    "            motion.append('height')\n",
    "            str1Lcs=str1[a1]+str1Lcs\n",
    "            str2Lcs='_'+str2Lcs\n",
    "        else:\n",
    "            a2=a2-1\n",
    "            motion.append('left')\n",
    "            str1Lcs='_'+str1Lcs\n",
    "            str2Lcs=str2[a1]+str2Lcs"
   ]
  },
  {
   "cell_type": "code",
   "execution_count": 7,
   "metadata": {},
   "outputs": [
    {
     "name": "stdout",
     "output_type": "stream",
     "text": [
      "共同子序列LCS:ABCABC\n",
      "LCS gap:\n",
      "str1:ABCAB_CBA\n",
      "str2:ABCABAC__\n",
      "\n",
      "移動方式:\n",
      "height\n",
      "height\n",
      "middle\n",
      "left\n",
      "middle\n",
      "middle\n",
      "middle\n",
      "middle\n",
      "middle\n"
     ]
    }
   ],
   "source": [
    "print('共同子序列LCS:'+string)\n",
    "#print(len(motion))\n",
    "print('LCS gap:')\n",
    "print('str1:'+str1Lcs)\n",
    "print('str2:'+str2Lcs)\n",
    "print()\n",
    "print('移動方式:')\n",
    "for i in range(len(motion)):\n",
    "    print(motion[i])"
   ]
  },
  {
   "cell_type": "code",
   "execution_count": 8,
   "metadata": {},
   "outputs": [
    {
     "name": "stdout",
     "output_type": "stream",
     "text": [
      "0 0 0 0 0 0 0 0 0 0\n",
      "                   \n",
      "0 0 0 1 1 1 1 1 1 1\n",
      "                   \n",
      "0 0 1 1 2 2 2 2 2 2\n",
      "                   \n",
      "0 1 1 1 2 3 3 3 3 3\n",
      "                   \n",
      "0 1 1 2 2 3 4 4 4 4\n",
      "                   \n",
      "0 1 2 2 3 3 4 5 5 5\n",
      "                   \n",
      "0 1 2 2 3 4 4 5 6 6\n",
      "                   \n",
      "0 1 2 2 3 4 4 5 6 6\n",
      "                   \n",
      "0 1 2 3 3 4 5 5 6 6\n"
     ]
    }
   ],
   "source": [
    "#創建 LCS 位置移動圖--20190808撰寫\n",
    "LCSarray=[]\n",
    "for i in range(2*len1+1):\n",
    "    a=''\n",
    "    if i%2==0:\n",
    "        for j in range(2*len2+1):\n",
    "            if j%2==0:\n",
    "                a=a+(str(arr[int(i/2)][int(j/2)]))\n",
    "            else:\n",
    "                a=a+' '\n",
    "    else:\n",
    "        for j in range(2*len2+1):\n",
    "            a=a+' '\n",
    "    LCSarray.append(a)\n",
    "for i in LCSarray:\n",
    "    print(i)\n"
   ]
  },
  {
   "cell_type": "code",
   "execution_count": 9,
   "metadata": {},
   "outputs": [],
   "source": [
    "#LCS移動圖--箭頭放置\n",
    "LCSarrayLen1=2*len1\n",
    "LCSarrayLen2=2*len2\n",
    "for i in motion:\n",
    "    if i=='middle':\n",
    "        LCSarrayLen1=LCSarrayLen1-1\n",
    "        LCSarrayLen2=LCSarrayLen2-1\n",
    "        temp=list(LCSarray[LCSarrayLen1])\n",
    "        temp[LCSarrayLen2]='↖'\n",
    "        LCSarray[LCSarrayLen1]=''.join(temp)\n",
    "        LCSarrayLen1=LCSarrayLen1-1\n",
    "        LCSarrayLen2=LCSarrayLen2-1\n",
    "    elif i=='left':\n",
    "        LCSarrayLen2=LCSarrayLen2-1\n",
    "        temp=list(LCSarray[LCSarrayLen1])\n",
    "        temp[LCSarrayLen2]='←'\n",
    "        LCSarray[LCSarrayLen1]=''.join(temp)\n",
    "        LCSarrayLen2=LCSarrayLen2-1\n",
    "    else:\n",
    "        LCSarrayLen1=LCSarrayLen1-1\n",
    "        temp=list(LCSarray[LCSarrayLen1])\n",
    "        #print(temp,len(temp),LCSarrayLen2)\n",
    "        \n",
    "        temp[LCSarrayLen2]='↑'\n",
    "        LCSarray[LCSarrayLen1]=''.join(temp)\n",
    "        LCSarrayLen1=LCSarrayLen1-1"
   ]
  },
  {
   "cell_type": "code",
   "execution_count": 10,
   "metadata": {},
   "outputs": [
    {
     "name": "stdout",
     "output_type": "stream",
     "text": [
      "0 0 0 0 0 0 0 0 0 0\n",
      "     ↖             \n",
      "0 0 0 1 1 1 1 1 1 1\n",
      "       ↖           \n",
      "0 0 1 1 2 2 2 2 2 2\n",
      "         ↖         \n",
      "0 1 1 1 2 3 3 3 3 3\n",
      "           ↖       \n",
      "0 1 1 2 2 3 4 4 4 4\n",
      "             ↖     \n",
      "0 1 2 2 3 3 4 5←5 5\n",
      "                 ↖ \n",
      "0 1 2 2 3 4 4 5 6 6\n",
      "                  ↑\n",
      "0 1 2 2 3 4 4 5 6 6\n",
      "                  ↑\n",
      "0 1 2 3 3 4 5 5 6 6\n"
     ]
    }
   ],
   "source": [
    "for i in LCSarray:\n",
    "    print(i)"
   ]
  }
 ],
 "metadata": {
  "kernelspec": {
   "display_name": "Python 3",
   "language": "python",
   "name": "python3"
  },
  "language_info": {
   "codemirror_mode": {
    "name": "ipython",
    "version": 3
   },
   "file_extension": ".py",
   "mimetype": "text/x-python",
   "name": "python",
   "nbconvert_exporter": "python",
   "pygments_lexer": "ipython3",
   "version": "3.7.1"
  }
 },
 "nbformat": 4,
 "nbformat_minor": 2
}
